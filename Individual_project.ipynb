{
  "nbformat": 4,
  "nbformat_minor": 0,
  "metadata": {
    "colab": {
      "provenance": [],
      "collapsed_sections": [
        "uXv4h43OL9e2",
        "CAzk3szFofGp",
        "RJzeJS60oW3o",
        "5hzGFoQMXOEc",
        "3niCTtblQoh8",
        "wR8j-7szWIeI",
        "X777bRO0Wttk",
        "032BkvNTpNQN",
        "vp5ISWZtwQkk"
      ],
      "include_colab_link": true
    },
    "kernelspec": {
      "name": "python3",
      "display_name": "Python 3"
    },
    "language_info": {
      "name": "python"
    }
  },
  "cells": [
    {
      "cell_type": "markdown",
      "metadata": {
        "id": "view-in-github",
        "colab_type": "text"
      },
      "source": [
        "<a href=\"https://colab.research.google.com/github/hannahscha/individual-project/blob/main/Individual_project.ipynb\" target=\"_parent\"><img src=\"https://colab.research.google.com/assets/colab-badge.svg\" alt=\"Open In Colab\"/></a>"
      ]
    },
    {
      "cell_type": "markdown",
      "source": [
        "# opening data"
      ],
      "metadata": {
        "id": "uXv4h43OL9e2"
      }
    },
    {
      "cell_type": "code",
      "execution_count": null,
      "metadata": {
        "colab": {
          "base_uri": "https://localhost:8080/"
        },
        "id": "Z3DRkXiWKd2v",
        "outputId": "2354c68c-2cfa-4272-9fba-b4a1555d26c2"
      },
      "outputs": [
        {
          "output_type": "stream",
          "name": "stdout",
          "text": [
            "Welcome to the Lab Report Generator!\n",
            "Please enter the path to your experimental data set: /content/final_dataset.csv\n",
            "\n",
            "Here are the first few rows of your data:\n",
            "       C (%)     H (%)     N (%)      O (%)     S (%)     VM (%)    Ash (%)  \\\n",
            "0  53.041259  6.390897  0.871969  39.366227  0.329647  82.070081   4.884097   \n",
            "1  52.846674  6.186584  0.436866  40.219842  0.310034  70.783562  12.000000   \n",
            "2  40.020000  6.010000  0.880000  52.860000  0.230000  72.294705  10.020831   \n",
            "3  44.695108  7.236989  1.194997  46.872906  0.000000  94.161220   2.472767   \n",
            "4  45.019652  6.569343  2.189781  46.221224  0.000000  76.122673  18.948521   \n",
            "\n",
            "      FC (%)  Cel (%)  Hem (%)  Lig (%)  Plant capacity (kg/hr)   MSP  \\\n",
            "0  13.045822    37.26    14.62    31.68                   25000  0.64   \n",
            "1  17.216438    31.30    24.30    14.10                   25000  0.63   \n",
            "2  17.684464    35.00    27.50    10.00                   25000  0.69   \n",
            "3   3.366013    45.00    27.00    10.00                   25000  0.78   \n",
            "4   4.928806    21.00    28.00    21.00                   25000  0.63   \n",
            "\n",
            "   Location _China  Location _UK  Location _US  C (%)_O (%)_combined  \\\n",
            "0            False         False          True             46.203743   \n",
            "1            False         False          True             46.533258   \n",
            "2            False         False          True             46.440000   \n",
            "3            False         False          True             45.784007   \n",
            "4            False         False          True             45.620438   \n",
            "\n",
            "   N (%)_Ash (%)_combined  MSP_Location _China_combined  \n",
            "0                2.878033                         0.320  \n",
            "1                6.218433                         0.315  \n",
            "2                5.450416                         0.345  \n",
            "3                1.833882                         0.390  \n",
            "4               10.569151                         0.315  \n"
          ]
        }
      ],
      "source": [
        "# prompt: welcome user to the lab report generator and ask them to input the path to the experimental data set and print the first few rows\n",
        "\n",
        "import pandas as pd\n",
        "\n",
        "print(\"Welcome to the Lab Report Generator!\")\n",
        "\n",
        "file_path = input(\"Please enter the path to your experimental data set: \")\n",
        "\n",
        "try:\n",
        "  df = pd.read_csv(file_path)\n",
        "  print(\"\\nHere are the first few rows of your data:\")\n",
        "  print(df.head())\n",
        "except FileNotFoundError:\n",
        "  print(\"Error: File not found. Please check the file path and try again.\")\n",
        "except Exception as e:\n",
        "  print(f\"An error occurred: {e}\")"
      ]
    },
    {
      "cell_type": "markdown",
      "source": [
        "# Handling Data"
      ],
      "metadata": {
        "id": "CAzk3szFofGp"
      }
    },
    {
      "cell_type": "markdown",
      "source": [
        "## missing values"
      ],
      "metadata": {
        "id": "NFNbiaY3NtQv"
      }
    },
    {
      "cell_type": "code",
      "source": [
        "# prompt: remove missing values in data after showing user and asking then show again after replacing with mean\n",
        "\n",
        "if input(\"Do you want to handle missing values? (yes/no): \").lower() == 'yes':\n",
        "  print(\"\\nHere's a summary of missing values in your data:\")\n",
        "  print(df.isnull().sum())\n",
        "\n",
        "  if df.isnull().values.any():\n",
        "    print(\"\\nMissing values detected.\")\n",
        "    if input(\"Do you want to remove rows with missing values? (yes/no): \").lower() == 'yes':\n",
        "      df.dropna(inplace=True)\n",
        "      print(\"\\nRows with missing values have been removed.\")\n",
        "      print(\"\\nHere's a summary of missing values after removal:\")\n",
        "      print(df.isnull().sum())\n",
        "\n",
        "    if input(\"Do you want to replace missing values with the mean of their respective columns? (yes/no): \").lower() == 'yes':\n",
        "      for column in df.columns:\n",
        "        if df[column].isnull().any():\n",
        "          df[column].fillna(df[column].mean(), inplace=True)\n",
        "      print(\"\\nMissing values have been replaced with the mean of their respective columns.\")\n",
        "      print(\"\\nHere's a summary of missing values after replacement:\")\n",
        "      print(df.isnull().sum())\n",
        "\n",
        "  else:\n",
        "    print(\"\\nNo missing values detected.\")\n"
      ],
      "metadata": {
        "colab": {
          "base_uri": "https://localhost:8080/"
        },
        "id": "mptHYVazNzGf",
        "outputId": "0e1a0c16-3b80-4808-a597-9780b5516cd0"
      },
      "execution_count": null,
      "outputs": [
        {
          "output_type": "stream",
          "name": "stdout",
          "text": [
            "Do you want to handle missing values? (yes/no): yes\n",
            "\n",
            "Here's a summary of missing values in your data:\n",
            "C (%)                           0\n",
            "H (%)                           0\n",
            "N (%)                           0\n",
            "O (%)                           0\n",
            "S (%)                           0\n",
            "VM (%)                          0\n",
            "Ash (%)                         0\n",
            "FC (%)                          0\n",
            "Cel (%)                         0\n",
            "Hem (%)                         0\n",
            "Lig (%)                         0\n",
            "Plant capacity (kg/hr)          0\n",
            "MSP                             0\n",
            "Location _China                 0\n",
            "Location _UK                    0\n",
            "Location _US                    0\n",
            "C (%)_O (%)_combined            0\n",
            "N (%)_Ash (%)_combined          0\n",
            "MSP_Location _China_combined    0\n",
            "dtype: int64\n",
            "\n",
            "No missing values detected.\n"
          ]
        }
      ]
    },
    {
      "cell_type": "markdown",
      "source": [
        "## outliers"
      ],
      "metadata": {
        "id": "fsuYPgOMOBI0"
      }
    },
    {
      "cell_type": "code",
      "source": [
        "# prompt: remove outliers in data after listing to user outliers in each column in one list including number of outliers in each column and asking if they want to remove them;  show data statistics before and after removing only outliers in each column\n",
        "\n",
        "if input(\"Do you want to handle outliers? (yes/no): \").lower() == 'yes':\n",
        "  outlier_info = []\n",
        "  for column in df.select_dtypes(include=['number']).columns:\n",
        "    Q1 = df[column].quantile(0.25)\n",
        "    Q3 = df[column].quantile(0.75)\n",
        "    IQR = Q3 - Q1\n",
        "    lower_bound = Q1 - 1.5 * IQR\n",
        "    upper_bound = Q3 + 1.5 * IQR\n",
        "    num_outliers = len(df[(df[column] < lower_bound) | (df[column] > upper_bound)])\n",
        "    if num_outliers > 0:\n",
        "        outlier_info.append((column, num_outliers))\n",
        "\n",
        "  if outlier_info:\n",
        "      print(\"\\nPotential outliers detected in the following columns:\")\n",
        "      for column, num_outliers in outlier_info:\n",
        "          print(f\"- {column}: {num_outliers} outliers\")\n",
        "\n",
        "      if input(\"Do you want to remove outliers? (yes/no): \").lower() == 'yes':\n",
        "          print(\"\\nData statistics before removing outliers:\")\n",
        "          print(df.describe())\n",
        "\n",
        "          for column, _ in outlier_info:\n",
        "              Q1 = df[column].quantile(0.25)\n",
        "              Q3 = df[column].quantile(0.75)\n",
        "              IQR = Q3 - Q1\n",
        "              lower_bound = Q1 - 1.5 * IQR\n",
        "              upper_bound = Q3 + 1.5 * IQR\n",
        "              df = df[(df[column] >= lower_bound) & (df[column] <= upper_bound)]\n",
        "\n",
        "          print(\"\\nData statistics after removing outliers:\")\n",
        "          print(df.describe())\n",
        "      else:\n",
        "          print(\"\\nOutliers will not be removed.\")\n",
        "  else:\n",
        "      print(\"\\nNo potential outliers detected.\")\n"
      ],
      "metadata": {
        "colab": {
          "base_uri": "https://localhost:8080/"
        },
        "id": "EYzRokVWOCdh",
        "outputId": "014f8d31-097a-4d50-bbd0-46a6b04b43d4"
      },
      "execution_count": null,
      "outputs": [
        {
          "output_type": "stream",
          "name": "stdout",
          "text": [
            "Do you want to handle outliers? (yes/no): yes\n",
            "\n",
            "Potential outliers detected in the following columns:\n",
            "- C (%): 6 outliers\n",
            "- H (%): 18 outliers\n",
            "- N (%): 6 outliers\n",
            "- S (%): 24 outliers\n",
            "- Hem (%): 24 outliers\n",
            "- Lig (%): 6 outliers\n",
            "- C (%)_O (%)_combined: 6 outliers\n",
            "- N (%)_Ash (%)_combined: 12 outliers\n",
            "Do you want to remove outliers? (yes/no): yes\n",
            "\n",
            "Data statistics before removing outliers:\n",
            "            C (%)       H (%)       N (%)       O (%)       S (%)      VM (%)  \\\n",
            "count  150.000000  150.000000  150.000000  150.000000  150.000000  150.000000   \n",
            "mean    49.155055    6.133785    1.133585   43.477464    0.100113   76.987560   \n",
            "std      3.331214    0.369787    0.934751    3.389774    0.177063    7.507857   \n",
            "min     40.020000    5.320000    0.100000   37.293729    0.000000   60.840000   \n",
            "25%     47.649030    5.980000    0.450000   40.600000    0.000000   72.950000   \n",
            "50%     48.867116    6.120000    0.871969   43.440000    0.000000   77.318919   \n",
            "75%     51.710000    6.256410    1.580158   45.557022    0.121371   81.797235   \n",
            "max     55.235524    7.236989    4.246211   52.860000    0.671063   94.161220   \n",
            "\n",
            "          Ash (%)      FC (%)     Cel (%)     Hem (%)     Lig (%)  \\\n",
            "count  150.000000  150.000000  150.000000  150.000000  150.000000   \n",
            "mean     6.705238   16.307202   36.206543   25.627964   21.561196   \n",
            "std      7.057265    6.288224    8.261125    7.760810    8.714119   \n",
            "min      0.400000    3.366013   21.000000   12.800000    2.110000   \n",
            "25%      1.540000   13.045822   30.000000   22.000000   17.380000   \n",
            "50%      2.970000   16.722026   37.500000   24.300000   22.400000   \n",
            "75%     10.020831   20.610000   44.400000   28.000000   26.800000   \n",
            "max     22.550000   26.600000   49.873571   41.370000   37.700000   \n",
            "\n",
            "       Plant capacity (kg/hr)         MSP  C (%)_O (%)_combined  \\\n",
            "count              150.000000  150.000000            150.000000   \n",
            "mean             37500.000000    0.763807             46.316259   \n",
            "std              12541.876164    0.220407              0.567360   \n",
            "min              25000.000000    0.396000             44.515793   \n",
            "25%              25000.000000    0.640000             46.015000   \n",
            "50%              37500.000000    0.703600             46.440000   \n",
            "75%              50000.000000    0.996300             46.650520   \n",
            "max              50000.000000    1.268800             47.175000   \n",
            "\n",
            "       N (%)_Ash (%)_combined  MSP_Location _China_combined  \n",
            "count              150.000000                    150.000000  \n",
            "mean                 3.919411                      0.548570  \n",
            "std                  3.877505                      0.177353  \n",
            "min                  0.334298                      0.315000  \n",
            "25%                  1.079739                      0.369200  \n",
            "50%                  1.833882                      0.505000  \n",
            "75%                  5.450416                      0.711200  \n",
            "max                 12.270000                      0.899300  \n",
            "\n",
            "Data statistics after removing outliers:\n",
            "           C (%)      H (%)      N (%)      O (%)      S (%)     VM (%)  \\\n",
            "count  78.000000  78.000000  78.000000  78.000000  78.000000  78.000000   \n",
            "mean   49.459845   6.148627   0.962969  43.412583   0.015976  77.858497   \n",
            "std     2.959010   0.279398   0.636020   2.801351   0.035539   5.595183   \n",
            "min    45.019652   5.709845   0.100000  37.293729   0.000000  67.780000   \n",
            "25%    47.649030   5.904724   0.525943  42.620000   0.000000  72.950000   \n",
            "50%    48.912714   6.120000   0.619478  44.066298   0.000000  77.318919   \n",
            "75%    50.840673   6.430939   1.560000  45.557022   0.000000  80.752916   \n",
            "max    55.235524   6.569343   2.189781  46.771734   0.121371  87.828947   \n",
            "\n",
            "         Ash (%)     FC (%)    Cel (%)    Hem (%)    Lig (%)  \\\n",
            "count  78.000000  78.000000  78.000000  78.000000  78.000000   \n",
            "mean    4.106480  18.035023  34.636429  27.111469  24.257685   \n",
            "std     5.041323   6.301172   9.619465   8.382982   4.523307   \n",
            "min     0.400000   4.928806  21.000000  12.800000  17.380000   \n",
            "25%     1.130000  13.202545  29.010000  22.400000  21.000000   \n",
            "50%     1.700000  18.600000  36.890000  27.500000  24.769900   \n",
            "75%     5.444444  22.730000  44.500000  31.000000  26.000000   \n",
            "max    18.948521  26.600000  49.873571  41.240000  32.700000   \n",
            "\n",
            "       Plant capacity (kg/hr)        MSP  C (%)_O (%)_combined  \\\n",
            "count               78.000000  78.000000             78.000000   \n",
            "mean             37500.000000   0.783179             46.436214   \n",
            "std              12580.906994   0.224895              0.383441   \n",
            "min              25000.000000   0.396000             45.620438   \n",
            "25%              25000.000000   0.650850             46.240000   \n",
            "50%              37500.000000   0.730000             46.450000   \n",
            "75%              50000.000000   1.006600             46.677455   \n",
            "max              50000.000000   1.268800             46.980000   \n",
            "\n",
            "       N (%)_Ash (%)_combined  MSP_Location _China_combined  \n",
            "count               78.000000                     78.000000  \n",
            "mean                 2.534724                      0.558256  \n",
            "std                  2.771575                      0.176746  \n",
            "min                  0.334298                      0.315000  \n",
            "25%                  0.827972                      0.382200  \n",
            "50%                  1.150000                      0.522500  \n",
            "75%                  3.422222                      0.717800  \n",
            "max                 10.569151                      0.899300  \n"
          ]
        }
      ]
    },
    {
      "cell_type": "markdown",
      "source": [
        "## one hot encoding"
      ],
      "metadata": {
        "id": "-E_ggIuEPshw"
      }
    },
    {
      "cell_type": "code",
      "source": [
        "# prompt: ask user if they want to use one hot encoding on their data, explain they it converts categorical to numerical for analysis if they need an explaination, if they decide yes one hot encode\n",
        "\n",
        "import pandas as pd\n",
        "\n",
        "if input(\"Do you need an explanation of one-hot encoding? (yes/no): \").lower() == 'yes':\n",
        "  print(\"\\nOne-hot encoding is a process used to convert categorical data (data represented as labels or text) into numerical data that can be used for analysis by machine learning algorithms.\")\n",
        "  print(\"It creates new binary columns for each unique category in the original column, representing whether a specific row belongs to that category or not.\")\n",
        "  print(\"For example, if you have a column 'Color' with categories 'Red', 'Blue', and 'Green', one-hot encoding will create three new columns: 'Color_Red', 'Color_Blue', and 'Color_Green'.\")\n",
        "  print(\"Each row will have a 1 in the column corresponding to its color and 0s in the other columns.\")\n",
        "if input(\"Do you want to use one-hot encoding on your data? (yes/no): \").lower() == 'yes':\n",
        "  categorical_columns = df.select_dtypes(include=['object']).columns\n",
        "  if len(categorical_columns) > 0:\n",
        "    print(f\"\\nThe following columns are categorical and can be one-hot encoded: {', '.join(categorical_columns)}\")\n",
        "    df = pd.get_dummies(df, columns=categorical_columns, dummy_na=False)\n",
        "    print(\"\\nOne-hot encoding has been applied successfully.\")\n",
        "    print(df.head())\n",
        "  else:\n",
        "    print(\"\\nNo categorical columns were found in your data. One-hot encoding is not applicable.\")\n"
      ],
      "metadata": {
        "colab": {
          "base_uri": "https://localhost:8080/"
        },
        "id": "KpQ-Vmp8PvK3",
        "outputId": "2d1eebe7-05d2-460e-e88a-14bf291234ab"
      },
      "execution_count": null,
      "outputs": [
        {
          "output_type": "stream",
          "name": "stdout",
          "text": [
            "Do you need an explanation of one-hot encoding? (yes/no): yes\n",
            "\n",
            "One-hot encoding is a process used to convert categorical data (data represented as labels or text) into numerical data that can be used for analysis by machine learning algorithms.\n",
            "It creates new binary columns for each unique category in the original column, representing whether a specific row belongs to that category or not.\n",
            "For example, if you have a column 'Color' with categories 'Red', 'Blue', and 'Green', one-hot encoding will create three new columns: 'Color_Red', 'Color_Blue', and 'Color_Green'.\n",
            "Each row will have a 1 in the column corresponding to its color and 0s in the other columns.\n",
            "Do you want to use one-hot encoding on your data? (yes/no): yes\n",
            "\n",
            "No categorical columns were found in your data. One-hot encoding is not applicable.\n"
          ]
        }
      ]
    },
    {
      "cell_type": "markdown",
      "source": [
        "# calculations"
      ],
      "metadata": {
        "id": "RJzeJS60oW3o"
      }
    },
    {
      "cell_type": "markdown",
      "source": [
        "## conversion rate"
      ],
      "metadata": {
        "id": "1D-8Uv5oL78M"
      }
    },
    {
      "cell_type": "code",
      "source": [
        "# prompt: if user wants to calculate conversion rate in chemistry between two columns the user picks from numbered list of columns, then print the two columns and the calculated column, ask the user columns that represent each variable in the equation\n",
        "\n",
        "if input(\"Do you want to calculate conversion rate? (yes/no): \").lower() == 'yes':\n",
        "  print(\"\\nAvailable columns:\")\n",
        "  for i, col in enumerate(df.columns):\n",
        "    print(f\"{i+1}. {col}\")\n",
        "\n",
        "  while True:\n",
        "    try:\n",
        "      reactant_col_num = int(input(\"Enter the column number representing the initial moles of reactant: \"))\n",
        "      product_col_num = int(input(\"Enter the column number representing the final moles of product: \"))\n",
        "\n",
        "      if 0 <= reactant_col_num < len(df.columns) and 0 <= product_col_num < len(df.columns):\n",
        "        break\n",
        "      else:\n",
        "        print(\"Invalid column number. Please try again.\")\n",
        "    except ValueError:\n",
        "      print(\"Invalid input. Please enter a number.\")\n",
        "\n",
        "  reactant_col = df.columns[reactant_col_num]\n",
        "  product_col = df.columns[product_col_num]\n",
        "\n",
        "  df['Conversion Rate'] = (df[product_col] / df[reactant_col]) * 100\n",
        "\n",
        "  print(f\"\\nHere are the columns {reactant_col}, {product_col} and the calculated Conversion Rate:\")\n",
        "  print(df[[reactant_col, product_col, 'Conversion Rate']])\n"
      ],
      "metadata": {
        "colab": {
          "base_uri": "https://localhost:8080/"
        },
        "id": "519CXRq3K2Im",
        "outputId": "1b9d4c34-8103-426e-edcd-6489b2ca626f"
      },
      "execution_count": null,
      "outputs": [
        {
          "output_type": "stream",
          "name": "stdout",
          "text": [
            "Do you want to calculate conversion rate? (yes/no): yes\n",
            "\n",
            "Available columns:\n",
            "1. C (%)\n",
            "2. H (%)\n",
            "3. N (%)\n",
            "4. O (%)\n",
            "5. S (%)\n",
            "6. VM (%)\n",
            "7. Ash (%)\n",
            "8. FC (%)\n",
            "9. Cel (%)\n",
            "10. Hem (%)\n",
            "11. Lig (%)\n",
            "12. Plant capacity (kg/hr)\n",
            "13. MSP\n",
            "14. Location _China\n",
            "15. Location _UK\n",
            "16. Location _US\n",
            "17. C (%)_O (%)_combined\n",
            "18. N (%)_Ash (%)_combined\n",
            "19. MSP_Location _China_combined\n",
            "Enter the column number representing the initial moles of reactant: 1\n",
            "Enter the column number representing the final moles of product: 3\n",
            "\n",
            "Here are the columns H (%), O (%) and the calculated Conversion Rate:\n",
            "        H (%)      O (%)  Conversion Rate\n",
            "4    6.569343  46.221224       703.589744\n",
            "5    5.709845  46.771734       819.141971\n",
            "7    6.174469  45.557022       737.828947\n",
            "8    6.174469  45.557022       737.828947\n",
            "9    6.430939  44.066298       685.223368\n",
            "..        ...        ...              ...\n",
            "144  5.997775  44.442197       740.978078\n",
            "146  6.550000  42.620000       650.687023\n",
            "147  5.904724  42.934347       727.118644\n",
            "148  6.100000  40.600000       665.573770\n",
            "149  5.890589  37.293729       633.106961\n",
            "\n",
            "[78 rows x 3 columns]\n"
          ]
        }
      ]
    },
    {
      "cell_type": "markdown",
      "source": [
        "## reaction efficiency"
      ],
      "metadata": {
        "id": "-fm31pjiMA8C"
      }
    },
    {
      "cell_type": "code",
      "source": [
        "# prompt: if user wants to calculate reaction efficiency in chemistry between two columns the user picks from numbered list of columns, then print the two columns and the calculated column, ask the user columns that represent each variable in the equation\n",
        "\n",
        "if input(\"Do you want to calculate reaction efficiency? (yes/no): \").lower() == 'yes':\n",
        "  print(\"\\nAvailable columns:\")\n",
        "  for i, col in enumerate(df.columns):\n",
        "    print(f\"{i+1}. {col}\")\n",
        "\n",
        "  while True:\n",
        "    try:\n",
        "      theoretical_yield_col_num = int(input(\"Enter the column number representing the theoretical yield: \"))\n",
        "      actual_yield_col_num = int(input(\"Enter the column number representing the actual yield: \"))\n",
        "\n",
        "      if 0 <= theoretical_yield_col_num < len(df.columns) and 0 <= actual_yield_col_num < len(df.columns):\n",
        "        break\n",
        "      else:\n",
        "        print(\"Invalid column number. Please try again.\")\n",
        "    except ValueError:\n",
        "      print(\"Invalid input. Please enter a number.\")\n",
        "\n",
        "  theoretical_yield_col = df.columns[theoretical_yield_col_num]\n",
        "  actual_yield_col = df.columns[actual_yield_col_num]\n",
        "\n",
        "  df['Reaction Efficiency'] = (df[actual_yield_col] / df[theoretical_yield_col]) * 100\n",
        "\n",
        "  print(f\"\\nHere are the columns {theoretical_yield_col}, {actual_yield_col} and the calculated Reaction Efficiency:\")\n",
        "  print(df[[theoretical_yield_col, actual_yield_col, 'Reaction Efficiency']])\n"
      ],
      "metadata": {
        "colab": {
          "base_uri": "https://localhost:8080/"
        },
        "id": "w16OoikIMC0Y",
        "outputId": "096cc498-2204-4bd6-da6b-d6123e55632d"
      },
      "execution_count": null,
      "outputs": [
        {
          "output_type": "stream",
          "name": "stdout",
          "text": [
            "Do you want to calculate reaction efficiency? (yes/no): yes\n",
            "\n",
            "Available columns:\n",
            "1. C (%)\n",
            "2. H (%)\n",
            "3. N (%)\n",
            "4. O (%)\n",
            "5. S (%)\n",
            "6. VM (%)\n",
            "7. Ash (%)\n",
            "8. FC (%)\n",
            "9. Cel (%)\n",
            "10. Hem (%)\n",
            "11. Lig (%)\n",
            "12. Plant capacity (kg/hr)\n",
            "13. MSP\n",
            "14. Location _China\n",
            "15. Location _UK\n",
            "16. Location _US\n",
            "17. C (%)_O (%)_combined\n",
            "18. N (%)_Ash (%)_combined\n",
            "19. MSP_Location _China_combined\n",
            "20. Conversion Rate\n",
            "Enter the column number representing the theoretical yield: 4\n",
            "Enter the column number representing the actual yield: 6\n",
            "\n",
            "Here are the columns S (%), Ash (%) and the calculated Reaction Efficiency:\n",
            "        S (%)    Ash (%)  Reaction Efficiency\n",
            "4    0.000000  18.948521                  inf\n",
            "5    0.000000   1.783784                  inf\n",
            "7    0.000000   1.540000                  inf\n",
            "8    0.000000   1.540000                  inf\n",
            "9    0.066298   9.490000         1.431408e+04\n",
            "..        ...        ...                  ...\n",
            "144  0.121371   1.130000         9.310258e+02\n",
            "146  0.000000   6.044539                  inf\n",
            "147  0.020016   0.400000         1.998400e+03\n",
            "148  0.000000   0.800000                  inf\n",
            "149  0.000000   4.124352                  inf\n",
            "\n",
            "[78 rows x 3 columns]\n"
          ]
        }
      ]
    },
    {
      "cell_type": "markdown",
      "source": [
        "## energy consumption"
      ],
      "metadata": {
        "id": "oGSzJmROMgsk"
      }
    },
    {
      "cell_type": "code",
      "source": [
        "# prompt: if user wants to calculate energy consumption in chemistry between two columns the user picks from numbered list of columns, then print the two columns and the calculated column, ask the user columns that represent each variable in the equation\n",
        "\n",
        "# Energy consumption calculation\n",
        "if input(\"Do you want to calculate energy consumption? (yes/no): \").lower() == 'yes':\n",
        "  print(\"\\nAvailable columns:\")\n",
        "  for i, col in enumerate(df.columns):\n",
        "    print(f\"{i+1}. {col}\")\n",
        "\n",
        "  while True:\n",
        "    try:\n",
        "      energy_input_col_num = int(input(\"Enter the column number representing the energy input: \")) - 1\n",
        "      time_col_num = int(input(\"Enter the column number representing the time: \")) - 1\n",
        "\n",
        "      if 0 <= energy_input_col_num < len(df.columns) and 0 <= time_col_num < len(df.columns):\n",
        "        break\n",
        "      else:\n",
        "        print(\"Invalid column number. Please try again.\")\n",
        "    except ValueError:\n",
        "      print(\"Invalid input. Please enter a number.\")\n",
        "\n",
        "  energy_input_col = df.columns[energy_input_col_num]\n",
        "  time_col = df.columns[time_col_num]\n",
        "\n",
        "  df['Energy Consumption'] = df[energy_input_col] * df[time_col]\n",
        "\n",
        "  print(f\"\\nHere are the columns {energy_input_col}, {time_col} and the calculated Energy Consumption:\")\n",
        "  print(df[[energy_input_col, time_col, 'Energy Consumption']])\n"
      ],
      "metadata": {
        "colab": {
          "base_uri": "https://localhost:8080/"
        },
        "id": "i6bxTnvHMfuK",
        "outputId": "af68adf0-1928-4bfa-d371-9f305be55d6d"
      },
      "execution_count": null,
      "outputs": [
        {
          "output_type": "stream",
          "name": "stdout",
          "text": [
            "Do you want to calculate energy consumption? (yes/no): yes\n",
            "\n",
            "Available columns:\n",
            "1. C (%)\n",
            "2. H (%)\n",
            "3. N (%)\n",
            "4. O (%)\n",
            "5. S (%)\n",
            "6. VM (%)\n",
            "7. Ash (%)\n",
            "8. FC (%)\n",
            "9. Cel (%)\n",
            "10. Hem (%)\n",
            "11. Lig (%)\n",
            "12. Plant capacity (kg/hr)\n",
            "13. MSP\n",
            "14. Location _China\n",
            "15. Location _UK\n",
            "16. Location _US\n",
            "17. C (%)_O (%)_combined\n",
            "18. N (%)_Ash (%)_combined\n",
            "19. MSP_Location _China_combined\n",
            "20. Conversion Rate\n",
            "21. Reaction Efficiency\n",
            "Enter the column number representing the energy input: 5\n",
            "Enter the column number representing the time: 8\n",
            "\n",
            "Here are the columns S (%), FC (%) and the calculated Energy Consumption:\n",
            "        S (%)     FC (%)  Energy Consumption\n",
            "4    0.000000   4.928806            0.000000\n",
            "5    0.000000  20.897297            0.000000\n",
            "7    0.000000  25.510000            0.000000\n",
            "8    0.000000  25.510000            0.000000\n",
            "9    0.066298  22.730000            1.506961\n",
            "..        ...        ...                 ...\n",
            "144  0.121371  20.610000            2.501467\n",
            "146  0.000000  13.202545            0.000000\n",
            "147  0.020016  14.300000            0.286229\n",
            "148  0.000000  18.600000            0.000000\n",
            "149  0.000000  11.834197            0.000000\n",
            "\n",
            "[78 rows x 3 columns]\n"
          ]
        }
      ]
    },
    {
      "cell_type": "markdown",
      "source": [
        "# Plotting"
      ],
      "metadata": {
        "id": "5hzGFoQMXOEc"
      }
    },
    {
      "cell_type": "markdown",
      "source": [
        "## box plots"
      ],
      "metadata": {
        "id": "LLpvqgEOTIIA"
      }
    },
    {
      "cell_type": "code",
      "source": [
        "# Initialize an empty list to store the charts\n",
        "charts_to_include = []  # Changed to a list"
      ],
      "metadata": {
        "id": "TahEuPvis9PZ"
      },
      "execution_count": null,
      "outputs": []
    },
    {
      "cell_type": "code",
      "source": [
        "import matplotlib.pyplot as plt\n",
        "import seaborn as sns  # Import seaborn\n",
        "import io\n",
        "\n",
        "while True:\n",
        "    print(\"\\nAvailable columns for box plots:\")\n",
        "    for i, col in enumerate(df.select_dtypes(include=['number']).columns):\n",
        "        print(f\"{i + 1}. {col}\")\n",
        "\n",
        "    col_num = input(\"Enter the column number to create a box plot (or 'done' to finish): \")\n",
        "\n",
        "    if col_num.lower() == 'done':\n",
        "        break\n",
        "\n",
        "    try:\n",
        "        col_num = int(col_num) - 1\n",
        "        if 0 <= col_num < len(df.select_dtypes(include=['number']).columns):\n",
        "            column_name = df.select_dtypes(include=['number']).columns[col_num]\n",
        "\n",
        "            # Create the box plot\n",
        "            plt.figure(figsize=(6, 4))\n",
        "            sns.boxplot(x=df[column_name])  # Create the box plot\n",
        "            plt.title(f'Box Plot of {column_name}')\n",
        "            plt.tight_layout()  # Adjust layout for better fit\n",
        "\n",
        "            # Save the chart to a BytesIO object\n",
        "            buf_boxplot = io.BytesIO()\n",
        "            plt.savefig(buf_boxplot, format='png')\n",
        "            plt.close()  # Close the plot to free memory\n",
        "            buf_boxplot.seek(0)  # Move to the beginning of the BytesIO buffer\n",
        "\n",
        "            # Append the BytesIO buffer to charts_to_include\n",
        "            charts_to_include.append(buf_boxplot)  # Now append works since it's a list\n",
        "\n",
        "            print(f\"Box plot for {column_name} saved.\")\n",
        "        else:\n",
        "            print(\"Invalid column number. Please try again.\")\n",
        "    except ValueError:\n",
        "        print(\"Invalid input. Please enter a number or 'done'.\")\n"
      ],
      "metadata": {
        "colab": {
          "base_uri": "https://localhost:8080/"
        },
        "id": "haUrt6-zUnww",
        "outputId": "1cdaf6bf-75df-4cac-a7f5-7e94333b08fa"
      },
      "execution_count": null,
      "outputs": [
        {
          "name": "stdout",
          "output_type": "stream",
          "text": [
            "\n",
            "Available columns for box plots:\n",
            "1. C (%)\n",
            "2. H (%)\n",
            "3. N (%)\n",
            "4. O (%)\n",
            "5. S (%)\n",
            "6. VM (%)\n",
            "7. Ash (%)\n",
            "8. FC (%)\n",
            "9. Cel (%)\n",
            "10. Hem (%)\n",
            "11. Lig (%)\n",
            "12. Plant capacity (kg/hr)\n",
            "13. MSP\n",
            "14. C (%)_O (%)_combined\n",
            "15. N (%)_Ash (%)_combined\n",
            "16. MSP_Location _China_combined\n",
            "17. Conversion Rate\n",
            "18. Reaction Efficiency\n",
            "19. Energy Consumption\n",
            "Enter the column number to create a box plot (or 'done' to finish): 4\n",
            "Box plot for O (%) saved.\n",
            "\n",
            "Available columns for box plots:\n",
            "1. C (%)\n",
            "2. H (%)\n",
            "3. N (%)\n",
            "4. O (%)\n",
            "5. S (%)\n",
            "6. VM (%)\n",
            "7. Ash (%)\n",
            "8. FC (%)\n",
            "9. Cel (%)\n",
            "10. Hem (%)\n",
            "11. Lig (%)\n",
            "12. Plant capacity (kg/hr)\n",
            "13. MSP\n",
            "14. C (%)_O (%)_combined\n",
            "15. N (%)_Ash (%)_combined\n",
            "16. MSP_Location _China_combined\n",
            "17. Conversion Rate\n",
            "18. Reaction Efficiency\n",
            "19. Energy Consumption\n",
            "Enter the column number to create a box plot (or 'done' to finish): 5\n",
            "Box plot for S (%) saved.\n",
            "\n",
            "Available columns for box plots:\n",
            "1. C (%)\n",
            "2. H (%)\n",
            "3. N (%)\n",
            "4. O (%)\n",
            "5. S (%)\n",
            "6. VM (%)\n",
            "7. Ash (%)\n",
            "8. FC (%)\n",
            "9. Cel (%)\n",
            "10. Hem (%)\n",
            "11. Lig (%)\n",
            "12. Plant capacity (kg/hr)\n",
            "13. MSP\n",
            "14. C (%)_O (%)_combined\n",
            "15. N (%)_Ash (%)_combined\n",
            "16. MSP_Location _China_combined\n",
            "17. Conversion Rate\n",
            "18. Reaction Efficiency\n",
            "19. Energy Consumption\n",
            "Enter the column number to create a box plot (or 'done' to finish): done\n"
          ]
        }
      ]
    },
    {
      "cell_type": "markdown",
      "source": [
        "## correlation"
      ],
      "metadata": {
        "id": "3niCTtblQoh8"
      }
    },
    {
      "cell_type": "code",
      "source": [
        "import seaborn as sns\n",
        "import io\n",
        "import matplotlib.pyplot as plt\n",
        "\n",
        "# Example of creating a heatmap\n",
        "plt.figure(figsize=(12, 10))\n",
        "sns.heatmap(df.corr(), annot=True, cmap='coolwarm')\n",
        "# Save the chart to a BytesIO object\n",
        "buf_heatmap = io.BytesIO()\n",
        "plt.savefig(buf_heatmap, format='png')\n",
        "buf_heatmap.seek(0)  # Move to the beginning of the BytesIO buffer\n",
        "charts_to_include.append(buf_heatmap)  # Store in the list\n",
        "\n",
        "plt.close()  # Close the plot to free memory\n",
        "print(f\"Heat map saved.\")"
      ],
      "metadata": {
        "id": "hu8XPYCQQqpL",
        "colab": {
          "base_uri": "https://localhost:8080/"
        },
        "outputId": "65dee355-7c21-4af4-bb69-1628a68065ce"
      },
      "execution_count": null,
      "outputs": [
        {
          "output_type": "stream",
          "name": "stdout",
          "text": [
            "Heat map saved.\n"
          ]
        }
      ]
    },
    {
      "cell_type": "markdown",
      "source": [
        "## scatter plot"
      ],
      "metadata": {
        "id": "wR8j-7szWIeI"
      }
    },
    {
      "cell_type": "code",
      "source": [
        "import pandas as pd\n",
        "import io\n",
        "\n",
        "# Assuming df is your DataFrame that contains the data\n",
        "  # List to store charts for the report\n",
        "\n",
        "while True:\n",
        "    print(\"\\nAvailable numerical columns for scatter plots:\")\n",
        "    for i, col in enumerate(df.select_dtypes(include=['number']).columns):\n",
        "        print(f\"{i + 1}. {col}\")\n",
        "\n",
        "    try:\n",
        "        x_col_num = int(input(\"Enter the column number for the x-axis (or 0 to exit): \")) - 1\n",
        "        if x_col_num == -1:\n",
        "            break\n",
        "        if 0 <= x_col_num < len(df.select_dtypes(include=['number']).columns):\n",
        "            x_col = df.columns[x_col_num]\n",
        "            y_col_num = int(input(\"Enter the column number for the y-axis: \")) - 1\n",
        "            if 0 <= y_col_num < len(df.select_dtypes(include=['number']).columns):\n",
        "                y_col = df.columns[y_col_num]\n",
        "\n",
        "                # Create the scatter plot with regression line\n",
        "                plt.figure(figsize=(6, 4))\n",
        "                sns.regplot(x=df[x_col], y=df[y_col])  # Include regression line\n",
        "                plt.title(f\"Scatter Plot: {x_col} vs {y_col}\")\n",
        "                plt.xlabel(x_col)\n",
        "                plt.ylabel(y_col)\n",
        "\n",
        "                # Save the chart to a BytesIO object\n",
        "                buf_scatterplot = io.BytesIO()\n",
        "                plt.savefig(buf_scatterplot, format='png')\n",
        "                buf_scatterplot.seek(0)  # Move to the beginning of the BytesIO buffer\n",
        "                charts_to_include.append(buf_scatterplot)  # Store in the list\n",
        "\n",
        "                plt.close()  # Close the plot to free memory\n",
        "                print(f\"Scatter plot for {x_col} vs {y_col} saved.\")\n",
        "\n",
        "            else:\n",
        "                print(\"Invalid column number for y-axis. Please try again.\")\n",
        "        else:\n",
        "            print(\"Invalid column number for x-axis. Please try again.\")\n",
        "    except ValueError:\n",
        "        print(\"Invalid input. Please enter a number.\")\n"
      ],
      "metadata": {
        "id": "5R3_KMeiWOVG",
        "outputId": "b48e314d-f05f-41b2-9219-2a0e03f5e2b4",
        "colab": {
          "base_uri": "https://localhost:8080/"
        }
      },
      "execution_count": null,
      "outputs": [
        {
          "name": "stdout",
          "output_type": "stream",
          "text": [
            "\n",
            "Available numerical columns for scatter plots:\n",
            "1. C (%)\n",
            "2. H (%)\n",
            "3. N (%)\n",
            "4. O (%)\n",
            "5. S (%)\n",
            "6. VM (%)\n",
            "7. Ash (%)\n",
            "8. FC (%)\n",
            "9. Cel (%)\n",
            "10. Hem (%)\n",
            "11. Lig (%)\n",
            "12. Plant capacity (kg/hr)\n",
            "13. MSP\n",
            "14. C (%)_O (%)_combined\n",
            "15. N (%)_Ash (%)_combined\n",
            "16. MSP_Location _China_combined\n",
            "17. Conversion Rate\n",
            "18. Reaction Efficiency\n",
            "19. Energy Consumption\n",
            "Enter the column number for the x-axis (or 0 to exit): 3\n",
            "Enter the column number for the y-axis: 6\n",
            "Scatter plot for N (%) vs VM (%) saved.\n",
            "\n",
            "Available numerical columns for scatter plots:\n",
            "1. C (%)\n",
            "2. H (%)\n",
            "3. N (%)\n",
            "4. O (%)\n",
            "5. S (%)\n",
            "6. VM (%)\n",
            "7. Ash (%)\n",
            "8. FC (%)\n",
            "9. Cel (%)\n",
            "10. Hem (%)\n",
            "11. Lig (%)\n",
            "12. Plant capacity (kg/hr)\n",
            "13. MSP\n",
            "14. C (%)_O (%)_combined\n",
            "15. N (%)_Ash (%)_combined\n",
            "16. MSP_Location _China_combined\n",
            "17. Conversion Rate\n",
            "18. Reaction Efficiency\n",
            "19. Energy Consumption\n",
            "Enter the column number for the x-axis (or 0 to exit): 0\n"
          ]
        }
      ]
    },
    {
      "cell_type": "markdown",
      "source": [
        "# trying to fix tables"
      ],
      "metadata": {
        "id": "vp5ISWZtwQkk"
      }
    },
    {
      "cell_type": "code",
      "source": [
        "#Install necessary packages\n",
        "\n",
        "!pip install reportlab\n",
        "!pip install pillow\n",
        "\n",
        "from reportlab.lib.pagesizes import letter\n",
        "from reportlab.pdfgen import canvas\n",
        "from reportlab.lib.units import inch\n",
        "from reportlab.lib import colors\n",
        "from reportlab.lib import utils\n",
        "from reportlab.pdfbase import pdfmetrics\n",
        "from reportlab.pdfbase.ttfonts import TTFont\n",
        "from reportlab.platypus import SimpleDocTemplate, Paragraph, Spacer\n",
        "from reportlab.lib.styles import getSampleStyleSheet\n",
        "from PIL import Image\n",
        "import pandas as pd\n",
        "import io\n",
        "import os\n",
        "\n",
        "def wrap_text(text, font, max_width):\n",
        "    \"\"\"Wraps text to fit within the specified width.\"\"\"\n",
        "    words = text.split(' ')\n",
        "    wrapped_lines = []\n",
        "    current_line = \"\"\n",
        "\n",
        "    for word in words:\n",
        "        test_line = f\"{current_line} {word}\".strip()\n",
        "        if pdfmetrics.stringWidth(test_line, font[0], font[1]) <= max_width:\n",
        "            current_line = test_line\n",
        "        else:\n",
        "            wrapped_lines.append(current_line)\n",
        "            current_line = word\n",
        "\n",
        "    if current_line:\n",
        "        wrapped_lines.append(current_line)\n",
        "\n",
        "    return wrapped_lines\n",
        "\n",
        "def create_lab_report_with_calculations(df, charts_to_include, filename=\"lab_report.pdf\"):\n",
        "    \"\"\"Creates a PDF lab report with calculated columns and charts.\"\"\"\n",
        "\n",
        "    if not charts_to_include:\n",
        "        print(\"No charts to include in the report.\")\n",
        "        return\n",
        "\n",
        "    # Create a PDF canvas\n",
        "    c = canvas.Canvas(filename, pagesize=letter)\n",
        "    width, height = letter\n",
        "\n",
        "    # Title\n",
        "    c.setFont(\"Helvetica\", 16)\n",
        "    c.drawString(1 * inch, height - 1 * inch, \"Lab Report\")\n",
        "\n",
        "\n",
        "    # Section: Calculated Columns and Descriptions\n",
        "    y_position = height - 2 * inch\n",
        "    c.setFont(\"Helvetica\", 14)\n",
        "    c.drawString(1 * inch, y_position, \"Calculated Data and Descriptions:\")\n",
        "\n",
        "    y_position -= 0.75 * inch\n",
        "\n",
        "    # List of calculated columns\n",
        "    calculated_cols = [col for col in df.columns if 'Rate' in col or 'Efficiency' in col or 'Consumption' in col]\n",
        "\n",
        "    # Display each column with its description\n",
        "    c.setFont(\"Helvetica\", 12)\n",
        "\n",
        "    for col in calculated_cols:\n",
        "        if 'Consumption' in col:\n",
        "            description = \"Calculated by multiplying energy input by time.\"\n",
        "        elif 'Efficiency' in col:\n",
        "            description = \"Calculated by dividing actual yield by theoretical yield and multiplying by 100.\"\n",
        "        elif 'Rate' in col:\n",
        "            description = \"Calculated by dividing final moles of product by initial moles of reactant and multiplying by 100.\"\n",
        "        else:\n",
        "            description = \"No description available.\"\n",
        "\n",
        "        # Draw the column name and description\n",
        "        c.drawString(1 * inch, y_position, f\"{col}:\")\n",
        "        y_position -= 0.2 * inch  # Move down for the description\n",
        "        wrapped_lines = wrap_text(description, (\"Helvetica\", 12), 6 * inch)  # Ensure wrapping text to fit the page\n",
        "        for line in wrapped_lines:\n",
        "            c.drawString(1 * inch, y_position, line)\n",
        "            y_position -= 0.2 * inch  # Space between lines in description\n",
        "\n",
        "        y_position -= 0.3 * inch  # Extra spacing after description\n",
        "\n",
        "    # Section: Calculated Table Values\n",
        "    c.setFont(\"Helvetica\", 10)\n",
        "    c.drawString(1 * inch, y_position, \"Data Table:\")\n",
        "    y_position -= 0.75 * inch\n",
        "\n",
        "    # Table Header\n",
        "    header_x_positions = [1 * inch + i * 2 * inch for i in range(len(calculated_cols))]\n",
        "\n",
        "    c.setFont(\"Helvetica-Bold\", 12)\n",
        "    for i, col in enumerate(calculated_cols):\n",
        "        c.drawString(header_x_positions[i], y_position, col)\n",
        "\n",
        "    y_position -= 0.5 * inch  # Move below header for table data\n",
        "\n",
        "    # Table Data (values)\n",
        "    c.setFont(\"Helvetica\", 12)\n",
        "    for row_idx in range(len(df)):\n",
        "        if y_position < 1 * inch:  # If not enough space on the page, create a new page\n",
        "            c.showPage()\n",
        "            y_position = height - 1.5 * inch\n",
        "\n",
        "            # Redraw the table headers on the new page\n",
        "            c.setFont(\"Helvetica-Bold\", 12)\n",
        "            for i, col in enumerate(calculated_cols):\n",
        "                c.drawString(header_x_positions[i], y_position, col)\n",
        "            y_position -= 0.5 * inch  # Move below header for table data\n",
        "\n",
        "        # Draw calculated column values for each row\n",
        "        for i, col in enumerate(calculated_cols):\n",
        "            c.setFont(\"Helvetica\", 12)\n",
        "            c.drawString(header_x_positions[i], y_position, str(df[col].iloc[row_idx]))\n",
        "\n",
        "        y_position -= 0.4 * inch  # Space between rows of the table\n",
        "\n",
        "           # Section: Summary Statistics\n",
        "    if y_position < 1 * inch:\n",
        "        c.showPage()\n",
        "        y_position = height - 1.5 * inch\n",
        "\n",
        "    c.setFont(\"Helvetica\", 14)\n",
        "    c.drawString(1 * inch, y_position, \"Summary Statistics:\")\n",
        "\n",
        "    y_position -= 0.5 * inch  # Adjust position for the table\n",
        "\n",
        "    # Define statistics and corresponding labels (excluding count)\n",
        "    statistics_labels = {\n",
        "        'mean': 'Mean',\n",
        "        'std': 'Standard Deviation',\n",
        "        'min': 'Minimum',\n",
        "        '25%': '25th Percentile',\n",
        "        '50%': 'Median (50th Percentile)',\n",
        "        '75%': '75th Percentile',\n",
        "        'max': 'Maximum'\n",
        "    }\n",
        "\n",
        "    summary_stats = df.describe().transpose()  # Transpose for easier handling\n",
        "    stat_table = summary_stats[['mean', 'std', 'min', '25%', '50%', '75%', 'max']]\n",
        "\n",
        "    # Create header for the table\n",
        "    c.setFont(\"Helvetica-Bold\", 12)\n",
        "    header_y_position = y_position\n",
        "\n",
        "    # Draw the second header only\n",
        "    c.drawString(1 * inch, header_y_position, \"Statistic\")\n",
        "    header_x_positions = [2 * inch + i * inch for i in range(len(statistics_labels))]\n",
        "\n",
        "    # Draw the sub-header for statistics\n",
        "    c.setFont(\"Helvetica\", 10)\n",
        "    for i, stat in enumerate(statistics_labels.keys()):\n",
        "        c.drawString(header_x_positions[i], header_y_position + 0.2 * inch, stat)  # Draw statistic names\n",
        "\n",
        "    y_position -= 0.4 * inch  # Move down for data rows\n",
        "\n",
        "    # Draw the statistics table (first half)\n",
        "    c.setFont(\"Helvetica\", 12)\n",
        "    for index, row in stat_table.iterrows():\n",
        "        if y_position < 1 * inch:\n",
        "            c.showPage()\n",
        "            y_position = height - 1.5 * inch\n",
        "\n",
        "        # Draw the statistic name\n",
        "        c.drawString(1 * inch, y_position, str(index))  # Draw statistic name\n",
        "\n",
        "        # Move down for the next row of values\n",
        "        y_position -= 0.2 * inch  # Space between rows\n",
        "\n",
        "        # Draw the values for this statistic\n",
        "        for i, value in enumerate(row):\n",
        "            # Prepare the value for drawing\n",
        "            value_str = f\"{value:.2f}\"  # Format the value to two decimal places\n",
        "            c.drawString(header_x_positions[i], y_position, value_str)\n",
        "\n",
        "        y_position -= 0.4 * inch  # Move to the next statistic\n",
        "\n",
        "    # Check if we can draw the last four statistics, if not, go to a new page\n",
        "    if y_position < 1 * inch:\n",
        "        c.showPage()\n",
        "        y_position = height - 1.5 * inch\n",
        "\n",
        "    # Draw the second half of the statistics table (last four statistics)\n",
        "    for index in stat_table.index[-4:]:  # Get the last four statistics\n",
        "        if y_position < 1 * inch:\n",
        "            c.showPage()\n",
        "            y_position = height - 1.5 * inch\n",
        "\n",
        "        row = stat_table.loc[index]\n",
        "\n",
        "        # Draw the statistic name\n",
        "        c.drawString(1 * inch, y_position, str(index))  # Draw statistic name\n",
        "\n",
        "        # Move down for the next row of values\n",
        "        y_position -= 0.2 * inch  # Space between rows\n",
        "\n",
        "        # Draw the values for this statistic\n",
        "        for i, value in enumerate(row):\n",
        "            # Prepare the value for drawing\n",
        "            value_str = f\"{value:.2f}\"  # Format the value to two decimal places\n",
        "            c.drawString(header_x_positions[i], y_position, value_str)\n",
        "\n",
        "        y_position -= 0.4 * inch  # Move to the next statistic\n",
        "\n",
        "    y_position -= 0.1 * inch  # Small gap between rows\n",
        "\n",
        "    # Section: Highly Correlated Variables\n",
        "    if y_position < 1 * inch:\n",
        "        c.showPage()\n",
        "        y_position = height - 1.5 * inch\n",
        "\n",
        "    c.setFont(\"Helvetica\", 14)\n",
        "    c.drawString(1 * inch, y_position, \"Highly Correlated Variables:\")\n",
        "\n",
        "    y_position -= 0.75 * inch\n",
        "    corr_matrix = df.corr()\n",
        "    for i in range(len(corr_matrix.columns)):\n",
        "        for j in range(i + 1, len(corr_matrix.columns)):\n",
        "            corr_value = corr_matrix.iloc[i, j]\n",
        "            if abs(corr_value) > 0.8:\n",
        "                if y_position < 1 * inch:\n",
        "                    c.showPage()\n",
        "                    y_position = height - 1.5 * inch\n",
        "\n",
        "                col1 = corr_matrix.columns[i]\n",
        "                col2 = corr_matrix.columns[j]\n",
        "                c.setFont(\"Helvetica\", 12)\n",
        "                c.drawString(1 * inch, y_position, f\"{col1} and {col2}: Correlation = {corr_value:.2f}\")\n",
        "                y_position -= 0.4 * inch\n",
        "\n",
        "       # Section: Charts\n",
        "    if y_position < 1 * inch:\n",
        "        c.showPage()\n",
        "        y_position = height - 1.5 * inch\n",
        "\n",
        "    c.setFont(\"Helvetica\", 14)\n",
        "    c.drawString(1 * inch, y_position, \"Charts:\")\n",
        "    y_position -= 0.75 * inch  # Move down for the charts\n",
        "\n",
        "    # Iterate through the charts to include\n",
        "    for i, chart_data in enumerate(charts_to_include):\n",
        "        # Check if there's enough space for the chart\n",
        "        if y_position - 3 * inch < 1 * inch:  # Check if chart would overflow the page\n",
        "            c.showPage()\n",
        "            y_position = height - 1.5 * inch\n",
        "            c.setFont(\"Helvetica\", 14)\n",
        "            c.drawString(1 * inch, y_position, \"Charts:\")\n",
        "            y_position -= 0.75 * inch  # Move down for the charts\n",
        "\n",
        "        # Convert BytesIO to PIL Image and save to temporary file\n",
        "        img = Image.open(chart_data)  # Open the BytesIO object directly\n",
        "        temp_image_path = f\"temp_chart_{i}.png\"\n",
        "        img.save(temp_image_path, format=\"PNG\")  # Save the image as PNG\n",
        "\n",
        "        # Draw the chart using the temporary file path\n",
        "        c.drawImage(temp_image_path, 1 * inch, y_position - 3 * inch, width=6 * inch, height=4 * inch, mask='auto')\n",
        "        y_position -= 4.5 * inch  # Move down for the next chart\n",
        "\n",
        "        # Remove the temporary file\n",
        "        os.remove(temp_image_path)  # Remove temporary files after use\n",
        "\n",
        "\n",
        "    # Save the PDF\n",
        "    c.save()\n",
        "    print(f\"{filename} created successfully.\")\n",
        "\n",
        "# Example usage\n",
        "create_lab_report_with_calculations(df, charts_to_include)\n"
      ],
      "metadata": {
        "colab": {
          "base_uri": "https://localhost:8080/"
        },
        "outputId": "72c4c9ee-3373-468d-f8c6-2575baf5d50b",
        "id": "UuaFueMVwTYF"
      },
      "execution_count": 29,
      "outputs": [
        {
          "output_type": "stream",
          "name": "stdout",
          "text": [
            "Requirement already satisfied: reportlab in /usr/local/lib/python3.10/dist-packages (4.2.5)\n",
            "Requirement already satisfied: pillow>=9.0.0 in /usr/local/lib/python3.10/dist-packages (from reportlab) (10.4.0)\n",
            "Requirement already satisfied: chardet in /usr/local/lib/python3.10/dist-packages (from reportlab) (5.2.0)\n",
            "Requirement already satisfied: pillow in /usr/local/lib/python3.10/dist-packages (10.4.0)\n"
          ]
        },
        {
          "output_type": "stream",
          "name": "stderr",
          "text": [
            "/usr/local/lib/python3.10/dist-packages/numpy/lib/function_base.py:4655: RuntimeWarning: invalid value encountered in subtract\n",
            "  diff_b_a = subtract(b, a)\n"
          ]
        },
        {
          "output_type": "stream",
          "name": "stdout",
          "text": [
            "lab_report.pdf created successfully.\n"
          ]
        }
      ]
    }
  ]
}